{
 "cells": [
  {
   "cell_type": "markdown",
   "metadata": {},
   "source": [
    "<span style=\"color:blue\">Multidimensional Random Walk Version 12 June 2018 </span>\n",
    "\n",
    "# <span style=\"color:blue\"> Demonstration 3.1 </span>\n",
    "Difference from Demonstration 3.0: Plots at end of execution - not during.   \n",
    "\n",
    "###  <span style=\"color:blue\"> Extract the probabilities of multiple outcomes using a multidimensional random walk model </span>\n",
    "\n",
    "####  James B. Cole, James.Cole.ctr@afit.edu ***or*** james.b.cole.3142@gmail.com \n",
    " "
   ]
  },
  {
   "cell_type": "code",
   "execution_count": 1,
   "metadata": {},
   "outputs": [],
   "source": [
    "import math as m\n",
    "import numpy as np\n",
    "import random\n",
    "import matplotlib.pyplot as plt"
   ]
  },
  {
   "cell_type": "markdown",
   "metadata": {},
   "source": [
    "#### <span style=\"color:blue\"> Input probability of each possible outcome </span>"
   ]
  },
  {
   "cell_type": "code",
   "execution_count": 2,
   "metadata": {},
   "outputs": [],
   "source": [
    "#\n",
    "P = [0.17,0.09,0.27,0.19]    # list of probabilities\n",
    "#\n",
    "if sum(P) > 1:\n",
    "    print(\"Error: sum of probabilities =\", sum(P), \" must be less than or equal to 1 \")"
   ]
  },
  {
   "cell_type": "markdown",
   "metadata": {},
   "source": [
    "#### <span style=\"color:blue\"> Regularize list of probabilities </span>\n",
    "\n",
    "<span style=\"color:blue\">\n",
    "In the random walk model outcome $o_{i\\pm}$ corresponds to a step of distance $\\pm 1$ in the $i^\\rm{th}$ dimension $i$ ($i = 1,2,...,m$). If $O$ is odd $o_{m+1}$ can correspond to either a $0$ step, or a non-zero one in $2(m+1)$ dimensions.\n",
    "</span>\n",
    "\n",
    "\n",
    "Let $S_P = $ sum of the probabilities in list **P**. Let $n_P = $ number of probabilities in **P**. \n",
    "\n",
    "If $ S_P = 1 $ and $n_P = $ is odd, then the last probability is the probability that the step is $0$. <br/>\n",
    "\n",
    "If $ S_P < 1 $ and  $n_P$ is odd, then we append $ q = 1 - S_P $ to the the list. $n_P$ becomes even, and there is no zero step. <br/>\n",
    "\n",
    "If $ S_P = 1 $ and $n_P = $ is even, there is no zero step. <br/>\n",
    "\n",
    "If $ S_P < 1 $ and  $n_P$ is even, then we append $ q = 1 - S_P $ to the the list, $n_P$ becomes odd and $q$ is the probability of a zero step. <br/>\n"
   ]
  },
  {
   "cell_type": "code",
   "execution_count": 3,
   "metadata": {},
   "outputs": [
    {
     "name": "stdout",
     "output_type": "stream",
     "text": [
      "regularized list of probabilities [0.17, 0.09, 0.27, 0.19, 0.28]\n"
     ]
    }
   ],
   "source": [
    "#\n",
    "if sum(P) < 1.0:\n",
    "    q = 1.0 - sum(P)\n",
    "    P.append(q)\n",
    "#\n",
    "print(\"regularized list of probabilities\", P)"
   ]
  },
  {
   "cell_type": "code",
   "execution_count": 4,
   "metadata": {},
   "outputs": [
    {
     "name": "stdout",
     "output_type": "stream",
     "text": [
      "number of dimensions =  2\n"
     ]
    }
   ],
   "source": [
    "nP = len(P)\n",
    "mP = divmod(nP,2)[0]\n",
    "#\n",
    "print (\"number of dimensions = \", mP)"
   ]
  },
  {
   "cell_type": "markdown",
   "metadata": {},
   "source": [
    "#### <span style=\"color:blue\"> create list of possible outcomes </span>\n",
    "**Outcomes are string integers including \"0\" if needed** "
   ]
  },
  {
   "cell_type": "code",
   "execution_count": 5,
   "metadata": {},
   "outputs": [
    {
     "name": "stdout",
     "output_type": "stream",
     "text": [
      "list of outcomes\n",
      "['1', '2', '3', '4', '0']\n",
      "their probabilites\n",
      "[0.17, 0.09, 0.27, 0.19, 0.28]\n"
     ]
    }
   ],
   "source": [
    "# create list of outcomes\n",
    "#\n",
    "list_of_outcomes = [str((i+1)%nP) for i in range(0,nP) ]   # nP is number of possible outcomes (excluding 0 step)\n",
    "#\n",
    "# list of weights (probabilities) for random choice function is P \n",
    "#\n",
    "print(\"list of outcomes\")\n",
    "print(list_of_outcomes)\n",
    "print ('their probabilites')\n",
    "print(P)\n",
    "                                    "
   ]
  },
  {
   "cell_type": "markdown",
   "metadata": {},
   "source": [
    "#### <span style=\"color:blue\"> **Random Walk Theory** </span>\n",
    "  \n",
    "<span style=\"color:blue\">\n",
    "\\begin{align}\n",
    "\\hspace{-5.0cm} <x_{i,t}>   & = ( p_{i+} - p_{i-} )t  \\\\\n",
    "\\hspace{-5.0cm} <x_{i,t}^2> & =  \\left[ ( p_{i+} + p_{i-} ) - ( p_{i+} - p_{i-} )^2 \\right] t + ( p_{i+} - p_{i-} )^2 t^2\n",
    "\\end{align}\n",
    "</span>\n",
    "    \n",
    "<span style=\"color:blue\"> thus </span>    \n",
    "<span style=\"color:blue\">\n",
    "    \n",
    "\\begin{align}\n",
    "\\hspace{-7.50cm} <x_{i,t}>   & = a_i \\, t,  \\\\\n",
    "\\hspace{-7.5cm} <x_{i,t}^2> & =  \\left[ b_i - a_i^2 \\right] t + a_i^2 \\, t^2,\n",
    "\\end{align}\n",
    "</span>\n",
    "\n",
    "<span style=\"color:blue\"> where  $a_i =  p_{i+} - p_{i-}$ and  $b_i =  p_{i+} + p_{i-}$    </span> \n",
    "\n"
   ]
  },
  {
   "cell_type": "markdown",
   "metadata": {},
   "source": [
    "#### <span style=\"color:blue\"> **Probability Estimation 1** </span>\n",
    "#### <span style=\"color:blue\">  Estimate $p_{i\\pm}$ using ensemble averaged position, $ <x_{i,t}> $ and $ <x_{i,t}^2> $ in dimension $i$ at step $t$. </span>   \n",
    "\n",
    "<span style=\"color:blue\">\n",
    "\\begin{equation*}\n",
    "\\hat{p}_{i\\pm, t} = \\frac{1}{2} \\left\\{ \\frac{1}{t} \\left[ <x_{i,t}^2> - <x_{i,t}>^2 \\pm <x_{i,t}> \\right] - \n",
    "\\frac{1}{t^2}<x_{i,t}>^2 \\right\\}\n",
    "\\end{equation*}\n",
    "</span> "
   ]
  },
  {
   "cell_type": "code",
   "execution_count": 6,
   "metadata": {},
   "outputs": [],
   "source": [
    "### probability estimation 1 ### \n",
    "#\n",
    "def prob_theory1(mx,msqx,t):\n",
    "#    \n",
    "    dummy1 = ( msqx - mx**2 )/t - mx**2 / t**2\n",
    "    dummy1 = 0.5*dummy1\n",
    "    dummy2 = 0.5*mx /t\n",
    "#    \n",
    "    p_plus  = dummy1 + dummy2\n",
    "    p_minus = dummy1 - dummy2\n",
    "#\n",
    "    return [p_plus, p_minus]   "
   ]
  },
  {
   "cell_type": "markdown",
   "metadata": {},
   "source": [
    "#### <span style=\"color:blue\"> define functions for probability estimation 2 </span>  "
   ]
  },
  {
   "cell_type": "markdown",
   "metadata": {},
   "source": [
    "<span style=\"color:blue\">\n",
    "\\begin{equation*}\n",
    "\\sum_{\\tau =1}^t{\\tau^2} = \\frac{1}{6} t(t+1)(2t+1), \\hspace{1cm} \\sum_{\\tau =1}^t{\\tau^3} = \\frac{1}{4} t^2(t+1)^2   \\hspace{3cm}\n",
    "\\end{equation*}\n",
    "</span>  "
   ]
  },
  {
   "cell_type": "code",
   "execution_count": 7,
   "metadata": {},
   "outputs": [],
   "source": [
    "#### sum of squares ###\n",
    "#\n",
    "def Sum_t2(t):\n",
    "    return t*(t+1.0)*(2.0*t+1.0) / 6.0\n",
    "#\n",
    "#### sum of cubes ###\n",
    "#\n",
    "def Sum_t3(t):\n",
    "    return t**2 (t+1.0)**2 / 4.0"
   ]
  },
  {
   "cell_type": "markdown",
   "metadata": {},
   "source": [
    "<span style=\"color:blue\">\n",
    "\\begin{equation*}\n",
    "\\sum_{\\tau =1}^t{ y_\\tau \\, \\tau },   \\hspace{5cm}\n",
    "\\end{equation*}\n",
    "where $ y_\\tau $ is either ensemble averaged position, $ <x_{i,t}> $, or ensemble averaged position squared,\n",
    "$ <x_{i,t}^2> $, in dimension $i$ at step $t$. </span>   "
   ]
  },
  {
   "cell_type": "code",
   "execution_count": 8,
   "metadata": {},
   "outputs": [],
   "source": [
    "### sum of y multiplied by t  ###\n",
    "# in order to get a running estimate (as a function of t) t can be <= len(t)\n",
    "# \n",
    "def Sum_yt(y,t):\n",
    "    it = int(t)\n",
    "    s = 0.0\n",
    "    for i in range(0,it):\n",
    "        s = s + (i+1.0)*y[i+1]\n",
    "    return s"
   ]
  },
  {
   "cell_type": "markdown",
   "metadata": {},
   "source": [
    "#### <span style=\"color:blue\"> Probability Estimation 2 </span>  \n",
    "<span style=\"color:blue\">\n",
    "Regression estimate of $\\hat{a}_i$\n",
    "\\begin{equation*}\n",
    "\\hspace{-3.5cm}  \\hat{a}_i = \\frac{  \\sum_{\\tau =1}^t { <x_{i,\\tau}> \\tau } }{ \\sum_{\\tau =1}^t {\\tau^2} }\n",
    "          = \\frac{ 6 \\sum_{\\tau =1}^t { <x_{i,\\tau}> \\tau } }{ t(t+1)(2t+1) },   \\hspace{5cm} \n",
    "\\end{equation*}\n",
    "</span>\n",
    "<span style=\"color:blue\">\n",
    "Regression estimate of $\\hat{b}_i$\n",
    "\\begin{equation*}\n",
    "\\hspace{1.5cm} \\hat{b}_i = \\hat{a}_i^2 \\left[ 1 -  \\frac{  \\sum_{\\tau =1}^t { \\tau^3 } }{ \\sum_{\\tau =1}^t {\\tau^2} } \\right] \n",
    "          +  \\frac{  \\sum_{\\tau =1}^t { <x_{i,\\tau}^2> \\tau } }{ \\sum_{\\tau =1}^t {\\tau^2} }  \n",
    "          =  \\hat{a}_i^2 \\left[ 1 - \\frac{3}{2} \\frac{t(t+1)}{(2t+1)} \\right]    + \\frac{6}{t(t+1)(2t+1)} \n",
    "          \\sum_{\\tau =1}^t { <x_{i,\\tau}^2> \\tau  }  \n",
    "\\end{equation*}\n",
    "</span>   \n",
    "<span style=\"color:blue\">\n",
    "Estimate of probability pair in dimension $i$\n",
    "\\begin{equation*}\n",
    "\\hspace{-8.2cm}  \\hat{p}_i\\pm = \\frac{ \\hat{b}_i \\pm \\hat{a}_i }{2}\n",
    "\\end{equation*}\n",
    "</span>"
   ]
  },
  {
   "cell_type": "code",
   "execution_count": 9,
   "metadata": {},
   "outputs": [],
   "source": [
    "### regression estimate of a_i using all steps up to and including time t. ###   \n",
    "#\n",
    "def est_a_i(y,t):\n",
    "    num = Sum_yt(y,t)\n",
    "    den = Sum_t2(t)\n",
    "    return num / den\n",
    "###\n",
    "#\n",
    "### regression estimate of b_i using all steps up to and including time t. ###   \n",
    "#\n",
    "def est_b_i(y1,y2,t):\n",
    "    asq = est_a_i(y1,t)**2\n",
    "    term1 = asq*(1.0 - 1.5*t*(t+1.0)/(2*t+1.0) ) \n",
    "    sy2sq = Sum_yt(y2,t)\n",
    "    term2 = sy2sq / Sum_t2(t)\n",
    "#\n",
    "    return (term1 + term2)\n",
    "#\n",
    "def prob_theory2(mx,msqx,t):\n",
    "    duma = est_a_i(mx,t)\n",
    "    dumb = est_b_i(mx,msqx,t)\n",
    "    p_plus  = (dumb + duma) / 2.0\n",
    "    p_minus = (dumb - duma) /2.0\n",
    "#    \n",
    "    return [p_plus, p_minus]     "
   ]
  },
  {
   "cell_type": "markdown",
   "metadata": {},
   "source": [
    "#### <span style=\"color:blue\"> **Random Walk Theory** </span>  \n",
    "#### <span style=\"color:blue\">  Ensemble averaged position = $ <x_{i,t}> $ and ensemble averaged position squared = $ <x_{i,t}^2> $ in dimension $i$ at step $t$. </span>   \n",
    "\n",
    "\n",
    "<span style=\"color:blue\"> \n",
    "\\begin{equation*}\n",
    "<x_{i,t}> = ( p_{i+} - p_{i-} )\\, t, \\hspace{1cm} <x_{i,t}^2> = \n",
    "\\left[ ( p_{i+} + p_{i-} ) -  ( p_{i+} - p_{i-} )^2 \\right] \\,t + ( p_{i+} - p_{i-} )^2 \\, t^2 \\hspace{1cm}\n",
    "\\end{equation*}\n",
    "</span> "
   ]
  },
  {
   "cell_type": "code",
   "execution_count": 10,
   "metadata": {},
   "outputs": [],
   "source": [
    "###\n",
    "#\n",
    "def walk_theory_x(p_plus,p_minus,t):\n",
    "#    \n",
    "    x_ensAve = (p_plus - p_minus)*t\n",
    "#\n",
    "    return x_ensAve\n",
    "#\n",
    "###\n",
    "#\n",
    "def walk_theory_xsq(p_plus,p_minus,t):\n",
    "#    \n",
    "    difp =p_plus - p_minus\n",
    "    sump =p_plus + p_minus\n",
    "#\n",
    "    xsq_ensAve = (sump - difp**2)*t + (difp**2)*t**2   \n",
    "#\n",
    "    return xsq_ensAve"
   ]
  },
  {
   "cell_type": "markdown",
   "metadata": {},
   "source": [
    "<span style=\"color:blue\">\n",
    "$x_i$ are coordinates in **mP**-dimensional space, **mP** determined from regularized list of probabilities. \n",
    "</span>"
   ]
  },
  {
   "cell_type": "code",
   "execution_count": 11,
   "metadata": {},
   "outputs": [
    {
     "name": "stdout",
     "output_type": "stream",
     "text": [
      "zero = [0. 0.] is a  2 -dimensional vector\n"
     ]
    }
   ],
   "source": [
    "Lzero = [0.0 for i in range(0,mP)]   # list needed in certain places\n",
    "zero = np.array(Lzero)               # array  \n",
    "#\n",
    "print (\"zero =\", zero,  \"is a \", mP, \"-dimensional vector\")"
   ]
  },
  {
   "cell_type": "markdown",
   "metadata": {},
   "source": [
    "####  <span style=\"color:blue\"> define an ensemble: **nE** trials, with **nP** possible outcomes </span>"
   ]
  },
  {
   "cell_type": "code",
   "execution_count": 12,
   "metadata": {},
   "outputs": [],
   "source": [
    "### define an ensemble of outcomes ###\n",
    "#\n",
    "def Ensemble(E):\n",
    "    D = [] # initialize data list\n",
    "    D = random.choices(list_of_outcomes, weights = P, k = E)\n",
    "    return D\n",
    "#\n",
    "# Output is a list of string integers, from 0 to nP    "
   ]
  },
  {
   "cell_type": "code",
   "execution_count": 13,
   "metadata": {},
   "outputs": [
    {
     "name": "stdout",
     "output_type": "stream",
     "text": [
      "example output of ensemble function\n",
      "['0', '4', '3', '2', '0', '3', '1']\n"
     ]
    }
   ],
   "source": [
    "# test Ensemble function\n",
    "print (\"example output of ensemble function\")\n",
    "print( Ensemble(7) )"
   ]
  },
  {
   "cell_type": "markdown",
   "metadata": {},
   "source": [
    "<span style=\"color:blue\"> Transform data from **Ensemble** into a step in **mP**-dimensional random walk </span>"
   ]
  },
  {
   "cell_type": "code",
   "execution_count": 14,
   "metadata": {},
   "outputs": [],
   "source": [
    "# x is a string number\n",
    "#\n",
    "def fs(x):   \n",
    "    x = int(x)\n",
    "    if x == 0:\n",
    "        return 0\n",
    "    if x != 0:\n",
    "        return (-1)**(x+1)\n",
    "#"
   ]
  },
  {
   "cell_type": "markdown",
   "metadata": {},
   "source": [
    "#### <span style=\"color:blue\"> An outcome is converted into a single step. Dimension in which the step occurs depends on the outcome. </span>"
   ]
  },
  {
   "cell_type": "code",
   "execution_count": 15,
   "metadata": {},
   "outputs": [],
   "source": [
    "# x is a string number \n",
    "#\n",
    "def step_component(x):\n",
    "    if x == '0':\n",
    "        return zero\n",
    "    if x != '0':\n",
    "        step = zero.tolist()\n",
    "        x = int(x)\n",
    "        q = x - 1\n",
    "        d = divmod(q, mP)[0]\n",
    "        y = (-1)**(x+1)\n",
    "        step[d] = y\n",
    "        step = np.array(step)\n",
    "        return step\n",
    "#\n",
    "# the output of step_component is an mP-dimensional vector"
   ]
  },
  {
   "cell_type": "code",
   "execution_count": 16,
   "metadata": {},
   "outputs": [
    {
     "name": "stdout",
     "output_type": "stream",
     "text": [
      "Examples:\n",
      "outcome = string(2) gives vector step [-1.  0.] in dimension 1\n",
      "outcome = string(3) gives vector step [0. 1.] in dimension 2\n",
      "outcome = string(0) gives vector step [0. 0.] in all dimensions\n"
     ]
    }
   ],
   "source": [
    "# enable for validation pursoses #\n",
    "#\n",
    "#test step_component: input a string integer\n",
    "print(\"Examples:\")\n",
    "print('outcome = string(2) gives vector step', step_component('2'), 'in dimension 1' )\n",
    "print('outcome = string(3) gives vector step', step_component('3'), 'in dimension 2' )\n",
    "print('outcome = string(0) gives vector step', step_component('0'), 'in all dimensions' )"
   ]
  },
  {
   "cell_type": "code",
   "execution_count": 17,
   "metadata": {},
   "outputs": [],
   "source": [
    "# Ensemble of mP-dimensional steps\n",
    "#\n",
    "def EnsembleStep(D):\n",
    "    nD = len(D)\n",
    "    Zero = [Lzero for i in range(0,nD)] \n",
    "    step = Zero\n",
    "#\n",
    "    step = [ step_component(D[i]) for i in range(0,nD) ]\n",
    "    step = np.array(step)\n",
    "    return step"
   ]
  },
  {
   "cell_type": "code",
   "execution_count": 18,
   "metadata": {},
   "outputs": [
    {
     "name": "stdout",
     "output_type": "stream",
     "text": [
      "an ensemble of 4 outcomes is converted into 4 vector steps\n",
      "\n",
      "ensemble of 4 outcomes\n",
      "['1', '1', '3', '0']\n",
      "\n",
      "convert outcomes into 4 mP-dimensional vector steps\n",
      "[[1.0, 0.0], [1.0, 0.0], [0.0, 1.0], [0.0, 0.0]]\n"
     ]
    }
   ],
   "source": [
    "# enable for validation pursoses #\n",
    "#\n",
    "print(\"an ensemble of 4 outcomes is converted into 4 vector steps\")\n",
    "print()\n",
    "#\n",
    "print(\"ensemble of 4 outcomes\")\n",
    "test_ensemble = Ensemble(4)\n",
    "print(test_ensemble)\n",
    "print()\n",
    "#\n",
    "print(\"convert outcomes into 4 mP-dimensional vector steps\")\n",
    "test_ensemble = EnsembleStep(test_ensemble)\n",
    "test_ensemble = test_ensemble.tolist()       # convert to list for display\n",
    "print(test_ensemble)\n",
    "#"
   ]
  },
  {
   "cell_type": "code",
   "execution_count": 19,
   "metadata": {},
   "outputs": [],
   "source": [
    "### ensemble average ###\n",
    "#\n",
    "# outputs a single mP-dimensional vector\n",
    "#\n",
    "def EnsAve(x):             # x is the output of Ensemble(nE)\n",
    "    nE = len(x)\n",
    "    fnE = float(nE)\n",
    "    ave = zero\n",
    "    for i in range(0,nE):\n",
    "        ave = ave + x[i]\n",
    "    ave = ave / fnE\n",
    "    ave = ave.tolist()\n",
    "    return ave"
   ]
  },
  {
   "cell_type": "code",
   "execution_count": 20,
   "metadata": {},
   "outputs": [
    {
     "name": "stdout",
     "output_type": "stream",
     "text": [
      "an ensemble of 4 outcomes is converted into 4 vector steps, and the ensemble average is computed\n",
      "\n",
      "ensemble of 4 outcomes\n",
      "['2', '2', '4', '2']\n",
      "\n",
      "convert outcomes into 4 mP-dimensional vector steps\n",
      "[[-1.0, 0.0], [-1.0, 0.0], [0.0, -1.0], [-1.0, 0.0]]\n",
      "\n",
      "compute ensemble average from ensemble of step position vectors after one step\n",
      "[-0.75, -0.25]\n"
     ]
    }
   ],
   "source": [
    "### Enable for Validation Purposes ###\n",
    "#\n",
    "print(\"an ensemble of 4 outcomes is converted into 4 vector steps, and the ensemble average is computed\")\n",
    "print()\n",
    "#\n",
    "print(\"ensemble of 4 outcomes\")\n",
    "test_ensemble = Ensemble(4)\n",
    "print(test_ensemble)\n",
    "print()\n",
    "#\n",
    "print(\"convert outcomes into 4 mP-dimensional vector steps\")\n",
    "test_ensemble = EnsembleStep(test_ensemble)\n",
    "test_ensemble_average = EnsAve(test_ensemble)\n",
    "test_ensemble = test_ensemble.tolist()       # convert to list for display\n",
    "print(test_ensemble)\n",
    "#\n",
    "print()\n",
    "print(\"compute ensemble average from ensemble of step position vectors after one step\")\n",
    "print(test_ensemble_average)\n"
   ]
  },
  {
   "cell_type": "markdown",
   "metadata": {},
   "source": [
    "<span style=\"color:blue\"> Set number of ensemble members (**nE**) </span>"
   ]
  },
  {
   "cell_type": "code",
   "execution_count": 21,
   "metadata": {},
   "outputs": [],
   "source": [
    "nE = 1024\n",
    "fnE = float(nE)"
   ]
  },
  {
   "cell_type": "markdown",
   "metadata": {},
   "source": [
    "####  <span style=\"color:blue\">Initialization </span>\n",
    "\n",
    "**Take the first step, and initialize lists of position and mean square position** <br\\>\n",
    "<span style=\"color:blue\">\n",
    "$ X(t) = [x_1(t),x_2(t),...,x_m(t)]=$ positions \n",
    "    in $m$-dimensional random walk at step $t$.\n",
    "</span>"
   ]
  },
  {
   "cell_type": "code",
   "execution_count": 22,
   "metadata": {},
   "outputs": [],
   "source": [
    "### Initialize Step 0\n",
    "#                                         # zero is an initial mP-dimensional position vector\n",
    "X = [zero for i in range(0,nE)]           # ensemble of mP-dimensional position vectors\n",
    "X = np.array(X)\n",
    "#\n",
    "EnsAvX   = [ Lzero ]  # initial ensemble average of x   in each dimension\n",
    "EnsAvXsq = [ Lzero ]  # initial ensemble average of x^2 in each dimension\n",
    "#"
   ]
  },
  {
   "cell_type": "markdown",
   "metadata": {},
   "source": [
    "####  <span style=\"color:blue\"> set number of steps to run </span>"
   ]
  },
  {
   "cell_type": "code",
   "execution_count": 23,
   "metadata": {},
   "outputs": [],
   "source": [
    "nT = 16"
   ]
  },
  {
   "cell_type": "markdown",
   "metadata": {},
   "source": [
    "####  <span style=\"color:blue\"> Enter iteration loop. Re-run to add more steps.  </span>"
   ]
  },
  {
   "cell_type": "code",
   "execution_count": 28,
   "metadata": {},
   "outputs": [],
   "source": [
    "it = 1  # this allows you to add nT more steps\n",
    "#\n",
    "while it <= nT:\n",
    "#    \n",
    "    DeltaX = EnsembleStep(Ensemble(nE))\n",
    "    X = X + DeltaX\n",
    "    Xsq = X**2\n",
    "#\n",
    "    dummy1 = EnsAve(X)  \n",
    "    EnsAvX.append(dummy1)\n",
    "#\n",
    "    dummy2 = EnsAve(Xsq)  \n",
    "    EnsAvXsq.append(dummy2)\n",
    "#\n",
    "    it  = it + 1"
   ]
  },
  {
   "cell_type": "markdown",
   "metadata": {},
   "source": [
    "#### <span style=\"color:blue\">select which probability pair you want to extract </span>\n",
    "dimension = dim = 1,2, ...mP"
   ]
  },
  {
   "cell_type": "code",
   "execution_count": 25,
   "metadata": {},
   "outputs": [
    {
     "name": "stdout",
     "output_type": "stream",
     "text": [
      "number of dimensions = 2\n"
     ]
    }
   ],
   "source": [
    "print('number of dimensions =', mP)\n",
    "#\n",
    "dim = 1     # set dim = 1,2, ... mP\n",
    "d = dim-1\n"
   ]
  },
  {
   "cell_type": "markdown",
   "metadata": {},
   "source": [
    "####  <span style=\"color:blue\"> Plot the position and root mean square position and compare with random walk theory. </span>"
   ]
  },
  {
   "cell_type": "code",
   "execution_count": 29,
   "metadata": {},
   "outputs": [
    {
     "name": "stdout",
     "output_type": "stream",
     "text": [
      "dimension = 1\n"
     ]
    },
    {
     "data": {
      "image/png": "[encoded data removed]",
      "text/plain": [
       "<matplotlib.figure.Figure at 0x8537828>"
      ]
     },
     "metadata": {},
     "output_type": "display_data"
    }
   ],
   "source": [
    "# Plot walk position and its root mean sqaure in dimension dim, and compare with random walk theory\n",
    "#\n",
    "T = len(EnsAvX)\n",
    "#\n",
    "## Random Walk Theory ##\n",
    "#\n",
    "# sequence of theoretical random walk calculations, <x>\n",
    "theoryX =    [walk_theory_x(P[2*d],P[2*d + 1],float(i)) for i in range(0,T)]\n",
    "#\n",
    "# sequence of theoretical random walk calculations, <x^2>\n",
    "theoryXsq =  [walk_theory_xsq(P[2*d],P[2*d + 1],float(i)) for i in range(0,T) ]\n",
    "#\n",
    "# compute root mean square \n",
    "theoryXrms = np.sqrt(theoryXsq)\n",
    "#\n",
    "## Calculations of <x> and <x^2> from data\n",
    "#\n",
    "# sequence of ensemble averages of  <x>\n",
    "EnsAvX_d =    [EnsAvX[i][d]   for i in range(0, T) ]\n",
    "#\n",
    "# sequence of ensemble ensemble averages of <x^2>\n",
    "EnsAvXsq_d =  [ EnsAvXsq[i][d] for i in range(0, T) ]\n",
    "#\n",
    "# compute root mean square \n",
    "EnsAvXrms_d = np.sqrt(EnsAvXsq_d)\n",
    "#\n",
    "#\n",
    "print( 'dimension =', dim )   \n",
    "#\n",
    "plt.title('<x> and <x^2>')\n",
    "#\n",
    "plt.xlim(0, T)\n",
    "#                                           \n",
    "#\n",
    "plt.plot(EnsAvX_d,  marker = \"p\",  linestyle = \"-\", color = \"b\", label= ' $ <x> $  ')\n",
    "plt.plot(theoryX,   marker = \"p\",  linestyle = \":\", color = \"g\", label= ' theory $ <x> $  ')\n",
    "#\n",
    "plt.plot(EnsAvXrms_d, marker = \"p\",  linestyle = \"-\", color = \"k\", label= ' $ \\sqrt{<x^2>} $')\n",
    "plt.plot(theoryXrms,  marker = \"p\",  linestyle = \":\", color = \"purple\", label= ' theory $ \\sqrt{<x^2>} $') \n",
    "#\n",
    "plt.axhline(y = 0.0,  color = \"r\", linestyle = \":\")\n",
    "#\n",
    "plt.xlabel('step')\n",
    "#\n",
    "plt.legend(loc = 'upper left')\n",
    "#\n",
    "plt.show()"
   ]
  },
  {
   "cell_type": "markdown",
   "metadata": {},
   "source": [
    "####  <span style=\"color:blue\"> Plot the probability estimates as a function of step </span>"
   ]
  },
  {
   "cell_type": "code",
   "execution_count": 30,
   "metadata": {
    "scrolled": true
   },
   "outputs": [
    {
     "name": "stdout",
     "output_type": "stream",
     "text": [
      "dimension =  1   steps =  33\n",
      "\n",
      "true p_+ =  0.17  estimate1 = 0.164  estimate2 = 0.167\n",
      "\n",
      "true p_- =  0.09  estimate1 = 0.085  estimate2 = 0.089\n"
     ]
    },
    {
     "data": {
      "image/png": "[encoded data removed]",
      "text/plain": [
       "<matplotlib.figure.Figure at 0x7ba7b70>"
      ]
     },
     "metadata": {},
     "output_type": "display_data"
    }
   ],
   "source": [
    "# Plots of the Probability Estimates\n",
    "#\n",
    "### esimation method 1 ###\n",
    "#\n",
    "est1P =[ prob_theory1(EnsAvX_d[i+1],EnsAvXsq_d[i+1], float(i+1) ) for i in range(0,T-1) ]\n",
    "#\n",
    "est1_p_plus  = [ est1P[i][0] for i in range(0,T-1) ]\n",
    "est1_p_minus = [ est1P[i][1] for i in range(0,T-1) ]\n",
    "#\n",
    "###\n",
    "#\n",
    "### esimation method 2 ###\n",
    "#\n",
    "est2P =[ prob_theory2(EnsAvX_d,EnsAvXsq_d, float(i+1)) for i in range(0,T-1) ]                                                                       \n",
    "#\n",
    "est2_p_plus  = [ est2P[i][0] for i in range(0,T-1) ]\n",
    "est2_p_minus = [ est2P[i][1] for i in range(0,T-1) ]\n",
    "##\n",
    "#\n",
    "true_p_plus =  P[2*d]\n",
    "true_p_minus = P[2*d+1]  \n",
    "#\n",
    "last_est1_p_plus  = round(est1_p_plus[T-2],3)\n",
    "last_est1_p_minus = round(est1_p_minus[T-2],3)\n",
    "#\n",
    "last_est2_p_plus  = round(est2_p_plus[T-2],3)\n",
    "last_est2_p_minus = round(est2_p_minus[T-2],3)\n",
    "#                                              \n",
    "plt.title('Probability Estimates from Random Walk Data')\n",
    "#\n",
    "print('dimension = ', dim, \"  steps = \", T)\n",
    "print()\n",
    "print('true p_+ = ', true_p_plus,  ' estimate1 =', last_est1_p_plus,  ' estimate2 =', last_est2_p_plus)\n",
    "print()\n",
    "print('true p_- = ', true_p_minus, ' estimate1 =', last_est1_p_minus, ' estimate2 =', last_est2_p_minus)   \n",
    "#\n",
    "r = [i+1 for i in range(0, T-1) ]\n",
    "#\n",
    "plt.plot(r, est1_p_plus,  marker = \"p\",  linestyle = \"-\", color = \"b\", label= ' $ p_+ $ estimate1' )\n",
    "plt.plot(r, est2_p_plus,  marker = \"p\",  linestyle = \"-\", color = \"r\", label= ' $ p_+ $ estimate2' )\n",
    "plt.axhline(y = true_p_plus,  color = \"b\", linestyle = \":\", label=' true $ p_+ $')\n",
    "#\n",
    "plt.plot(r, est1_p_minus, marker = \"p\",  linestyle = \"-\", color = \"k\", label= ' $ p_- $ estimate1' )\n",
    "plt.plot(r, est2_p_minus, marker = \"p\",  linestyle = \"-\", color = \"g\", label= ' $ p_- $ estimate2' )\n",
    "plt.axhline(y = true_p_minus, color = \"k\", linestyle = \":\", label=' true $ p_- $') \n",
    "#\n",
    "plt.xlabel('step')\n",
    "#\n",
    "plt.legend(bbox_to_anchor = (1.4, 1.0))\n",
    "#\n",
    "#plt.savefig('probabilities.png', dpi = 200, bbox_inches = 'tight', pad_inches = 2.0)\n",
    "#\n",
    "plt.show()"
   ]
  },
  {
   "cell_type": "code",
   "execution_count": null,
   "metadata": {},
   "outputs": [],
   "source": []
  }
 ],
 "metadata": {
  "kernelspec": {
   "display_name": "Python 3",
   "language": "python",
   "name": "python3"
  },
  "language_info": {
   "codemirror_mode": {
    "name": "ipython",
    "version": 3
   },
   "file_extension": ".py",
   "mimetype": "text/x-python",
   "name": "python",
   "nbconvert_exporter": "python",
   "pygments_lexer": "ipython3",
   "version": "3.6.4"
  }
 },
 "nbformat": 4,
 "nbformat_minor": 2
}
